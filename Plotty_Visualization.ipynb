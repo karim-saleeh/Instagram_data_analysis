{
 "cells": [
  {
   "cell_type": "code",
   "execution_count": 122,
   "id": "9d298514-dd13-4b82-a1b2-b7e02de5f551",
   "metadata": {
    "tags": []
   },
   "outputs": [],
   "source": [
    "import pandas as pd\n",
    "import numpy as np\n",
    "import matplotlib.pyplot as plt\n",
    "import seaborn as sns\n",
    "import plotly.express as px\n",
    "from wordcloud import WordCloud, STOPWORDS, ImageColorGenerator\n",
    "from sklearn.model_selection import train_test_split\n",
    "from sklearn.linear_model import PassiveAggressiveRegressor\n",
    "%matplotlib inline\n",
    "from selenium import webdriver\n",
    "from selenium.webdriver.common.by import By\n",
    "from pprint import pprint"
   ]
  },
  {
   "cell_type": "code",
   "execution_count": 123,
   "id": "f86943a0-9fee-4bfc-b364-d696814d7b40",
   "metadata": {
    "tags": []
   },
   "outputs": [
    {
     "data": {
      "text/html": [
       "<div>\n",
       "<style scoped>\n",
       "    .dataframe tbody tr th:only-of-type {\n",
       "        vertical-align: middle;\n",
       "    }\n",
       "\n",
       "    .dataframe tbody tr th {\n",
       "        vertical-align: top;\n",
       "    }\n",
       "\n",
       "    .dataframe thead th {\n",
       "        text-align: right;\n",
       "    }\n",
       "</style>\n",
       "<table border=\"1\" class=\"dataframe\">\n",
       "  <thead>\n",
       "    <tr style=\"text-align: right;\">\n",
       "      <th></th>\n",
       "      <th>hashtags</th>\n",
       "      <th>likesCount</th>\n",
       "      <th>commentsCount</th>\n",
       "      <th>highlightReelCount</th>\n",
       "      <th>igtvVideoCount</th>\n",
       "      <th>caption</th>\n",
       "      <th>type</th>\n",
       "      <th>postsCount</th>\n",
       "      <th>timestamp</th>\n",
       "      <th>followsCount</th>\n",
       "      <th>followersCount</th>\n",
       "      <th>videoViewCount</th>\n",
       "      <th>productType</th>\n",
       "      <th>videoPlayCount</th>\n",
       "    </tr>\n",
       "  </thead>\n",
       "  <tbody>\n",
       "    <tr>\n",
       "      <th>0</th>\n",
       "      <td>[]</td>\n",
       "      <td>507</td>\n",
       "      <td>16</td>\n",
       "      <td>14</td>\n",
       "      <td>6686</td>\n",
       "      <td>اللجنة الوطنية للانتخابات تنشر قوائم الهيئات ا...</td>\n",
       "      <td>Image</td>\n",
       "      <td>103372</td>\n",
       "      <td>2015-07-05 15:32:34+00:00</td>\n",
       "      <td>15</td>\n",
       "      <td>2566997</td>\n",
       "      <td>NaN</td>\n",
       "      <td>NaN</td>\n",
       "      <td>NaN</td>\n",
       "    </tr>\n",
       "    <tr>\n",
       "      <th>1</th>\n",
       "      <td>[]</td>\n",
       "      <td>658</td>\n",
       "      <td>13</td>\n",
       "      <td>14</td>\n",
       "      <td>6686</td>\n",
       "      <td>.\\nكل أسبوع خلال أيام عروض الشارقة للتسوق نك...</td>\n",
       "      <td>Video</td>\n",
       "      <td>103372</td>\n",
       "      <td>2020-08-08 11:30:01+00:00</td>\n",
       "      <td>15</td>\n",
       "      <td>2566997</td>\n",
       "      <td>11053.0</td>\n",
       "      <td>feed</td>\n",
       "      <td>NaN</td>\n",
       "    </tr>\n",
       "    <tr>\n",
       "      <th>2</th>\n",
       "      <td>[Repost, الإمارات]</td>\n",
       "      <td>493</td>\n",
       "      <td>9</td>\n",
       "      <td>14</td>\n",
       "      <td>6686</td>\n",
       "      <td>#Repost @uae_barq with @repostapp. ",
       "・・・ 👆👆موقع ...</td>\n",
       "      <td>Image</td>\n",
       "      <td>103372</td>\n",
       "      <td>2014-12-18 11:31:17+00:00</td>\n",
       "      <td>15</td>\n",
       "      <td>2566997</td>\n",
       "      <td>NaN</td>\n",
       "      <td>NaN</td>\n",
       "      <td>NaN</td>\n",
       "    </tr>\n",
       "    <tr>\n",
       "      <th>3</th>\n",
       "      <td>[]</td>\n",
       "      <td>413</td>\n",
       "      <td>1</td>\n",
       "      <td>14</td>\n",
       "      <td>6686</td>\n",
       "      <td>تحتفل الإمارات ب «يوم المرأة» بدورته الأولى في...</td>\n",
       "      <td>Image</td>\n",
       "      <td>103372</td>\n",
       "      <td>2015-08-28 09:16:29+00:00</td>\n",
       "      <td>15</td>\n",
       "      <td>2566997</td>\n",
       "      <td>NaN</td>\n",
       "      <td>NaN</td>\n",
       "      <td>NaN</td>\n",
       "    </tr>\n",
       "    <tr>\n",
       "      <th>4</th>\n",
       "      <td>[]</td>\n",
       "      <td>438</td>\n",
       "      <td>25</td>\n",
       "      <td>14</td>\n",
       "      <td>6686</td>\n",
       "      <td>‏لا اله إلا الله وحده لا شريك له . له الحمد ول...</td>\n",
       "      <td>Image</td>\n",
       "      <td>103372</td>\n",
       "      <td>2014-08-07 21:51:40+00:00</td>\n",
       "      <td>15</td>\n",
       "      <td>2566997</td>\n",
       "      <td>NaN</td>\n",
       "      <td>NaN</td>\n",
       "      <td>NaN</td>\n",
       "    </tr>\n",
       "    <tr>\n",
       "      <th>5</th>\n",
       "      <td>[أحب_محمد_بن_زايد, تويتر, الآن, من, أبناء, الو...</td>\n",
       "      <td>628</td>\n",
       "      <td>8</td>\n",
       "      <td>14</td>\n",
       "      <td>6686</td>\n",
       "      <td>#أحب_محمد_بن_زايد \\nوسم فعال في #تويتر ❤️\\n#ال...</td>\n",
       "      <td>Image</td>\n",
       "      <td>103372</td>\n",
       "      <td>2015-08-25 16:03:59+00:00</td>\n",
       "      <td>15</td>\n",
       "      <td>2566997</td>\n",
       "      <td>NaN</td>\n",
       "      <td>NaN</td>\n",
       "      <td>NaN</td>\n",
       "    </tr>\n",
       "  </tbody>\n",
       "</table>\n",
       "</div>"
      ],
      "text/plain": [
       "                                            hashtags  likesCount  \\\n",
       "0                                                 []         507   \n",
       "1                                                 []         658   \n",
       "2                                 [Repost, الإمارات]         493   \n",
       "3                                                 []         413   \n",
       "4                                                 []         438   \n",
       "5  [أحب_محمد_بن_زايد, تويتر, الآن, من, أبناء, الو...         628   \n",
       "\n",
       "   commentsCount  highlightReelCount  igtvVideoCount  \\\n",
       "0             16                  14            6686   \n",
       "1             13                  14            6686   \n",
       "2              9                  14            6686   \n",
       "3              1                  14            6686   \n",
       "4             25                  14            6686   \n",
       "5              8                  14            6686   \n",
       "\n",
       "                                             caption   type  postsCount  \\\n",
       "0  اللجنة الوطنية للانتخابات تنشر قوائم الهيئات ا...  Image      103372   \n",
       "1  .\\nكل أسبوع خلال أيام عروض الشارقة للتسوق نك...  Video      103372   \n",
       "2  #Repost @uae_barq with @repostapp.\n",
       "・・・ 👆👆موقع ...  Image      103372   \n",
       "3  تحتفل الإمارات ب «يوم المرأة» بدورته الأولى في...  Image      103372   \n",
       "4  ‏لا اله إلا الله وحده لا شريك له . له الحمد ول...  Image      103372   \n",
       "5  #أحب_محمد_بن_زايد \\nوسم فعال في #تويتر ❤️\\n#ال...  Image      103372   \n",
       "\n",
       "                  timestamp  followsCount  followersCount  videoViewCount  \\\n",
       "0 2015-07-05 15:32:34+00:00            15         2566997             NaN   \n",
       "1 2020-08-08 11:30:01+00:00            15         2566997         11053.0   \n",
       "2 2014-12-18 11:31:17+00:00            15         2566997             NaN   \n",
       "3 2015-08-28 09:16:29+00:00            15         2566997             NaN   \n",
       "4 2014-08-07 21:51:40+00:00            15         2566997             NaN   \n",
       "5 2015-08-25 16:03:59+00:00            15         2566997             NaN   \n",
       "\n",
       "  productType  videoPlayCount  \n",
       "0         NaN             NaN  \n",
       "1        feed             NaN  \n",
       "2         NaN             NaN  \n",
       "3         NaN             NaN  \n",
       "4         NaN             NaN  \n",
       "5         NaN             NaN  "
      ]
     },
     "execution_count": 123,
     "metadata": {},
     "output_type": "execute_result"
    }
   ],
   "source": [
    "import json\n",
    "df=pd.read_json(\"dataset_instagram-api-scraper_2023-05-29_11-54-31-918.json\")\n",
    "df.head(6)"
   ]
  },
  {
   "cell_type": "code",
   "execution_count": 124,
   "id": "a5d17b25-6a28-42dc-9aa0-be7dbf9b06bc",
   "metadata": {
    "tags": []
   },
   "outputs": [
    {
     "data": {
      "text/html": [
       "<div>\n",
       "<style scoped>\n",
       "    .dataframe tbody tr th:only-of-type {\n",
       "        vertical-align: middle;\n",
       "    }\n",
       "\n",
       "    .dataframe tbody tr th {\n",
       "        vertical-align: top;\n",
       "    }\n",
       "\n",
       "    .dataframe thead th {\n",
       "        text-align: right;\n",
       "    }\n",
       "</style>\n",
       "<table border=\"1\" class=\"dataframe\">\n",
       "  <thead>\n",
       "    <tr style=\"text-align: right;\">\n",
       "      <th></th>\n",
       "      <th>likesCount</th>\n",
       "      <th>commentsCount</th>\n",
       "      <th>highlightReelCount</th>\n",
       "      <th>igtvVideoCount</th>\n",
       "      <th>postsCount</th>\n",
       "      <th>followsCount</th>\n",
       "      <th>followersCount</th>\n",
       "      <th>videoViewCount</th>\n",
       "      <th>videoPlayCount</th>\n",
       "    </tr>\n",
       "  </thead>\n",
       "  <tbody>\n",
       "    <tr>\n",
       "      <th>count</th>\n",
       "      <td>191.000000</td>\n",
       "      <td>191.000000</td>\n",
       "      <td>191.0</td>\n",
       "      <td>191.0</td>\n",
       "      <td>191.0</td>\n",
       "      <td>191.0</td>\n",
       "      <td>191.0</td>\n",
       "      <td>2.000000</td>\n",
       "      <td>0.0</td>\n",
       "    </tr>\n",
       "    <tr>\n",
       "      <th>mean</th>\n",
       "      <td>206.157068</td>\n",
       "      <td>10.052356</td>\n",
       "      <td>14.0</td>\n",
       "      <td>6686.0</td>\n",
       "      <td>103372.0</td>\n",
       "      <td>15.0</td>\n",
       "      <td>2566997.0</td>\n",
       "      <td>9102.500000</td>\n",
       "      <td>NaN</td>\n",
       "    </tr>\n",
       "    <tr>\n",
       "      <th>std</th>\n",
       "      <td>230.399462</td>\n",
       "      <td>27.675134</td>\n",
       "      <td>0.0</td>\n",
       "      <td>0.0</td>\n",
       "      <td>0.0</td>\n",
       "      <td>0.0</td>\n",
       "      <td>0.0</td>\n",
       "      <td>2758.423553</td>\n",
       "      <td>NaN</td>\n",
       "    </tr>\n",
       "    <tr>\n",
       "      <th>min</th>\n",
       "      <td>4.000000</td>\n",
       "      <td>0.000000</td>\n",
       "      <td>14.0</td>\n",
       "      <td>6686.0</td>\n",
       "      <td>103372.0</td>\n",
       "      <td>15.0</td>\n",
       "      <td>2566997.0</td>\n",
       "      <td>7152.000000</td>\n",
       "      <td>NaN</td>\n",
       "    </tr>\n",
       "    <tr>\n",
       "      <th>25%</th>\n",
       "      <td>38.000000</td>\n",
       "      <td>1.000000</td>\n",
       "      <td>14.0</td>\n",
       "      <td>6686.0</td>\n",
       "      <td>103372.0</td>\n",
       "      <td>15.0</td>\n",
       "      <td>2566997.0</td>\n",
       "      <td>8127.250000</td>\n",
       "      <td>NaN</td>\n",
       "    </tr>\n",
       "    <tr>\n",
       "      <th>50%</th>\n",
       "      <td>112.000000</td>\n",
       "      <td>3.000000</td>\n",
       "      <td>14.0</td>\n",
       "      <td>6686.0</td>\n",
       "      <td>103372.0</td>\n",
       "      <td>15.0</td>\n",
       "      <td>2566997.0</td>\n",
       "      <td>9102.500000</td>\n",
       "      <td>NaN</td>\n",
       "    </tr>\n",
       "    <tr>\n",
       "      <th>75%</th>\n",
       "      <td>330.500000</td>\n",
       "      <td>7.000000</td>\n",
       "      <td>14.0</td>\n",
       "      <td>6686.0</td>\n",
       "      <td>103372.0</td>\n",
       "      <td>15.0</td>\n",
       "      <td>2566997.0</td>\n",
       "      <td>10077.750000</td>\n",
       "      <td>NaN</td>\n",
       "    </tr>\n",
       "    <tr>\n",
       "      <th>max</th>\n",
       "      <td>1044.000000</td>\n",
       "      <td>206.000000</td>\n",
       "      <td>14.0</td>\n",
       "      <td>6686.0</td>\n",
       "      <td>103372.0</td>\n",
       "      <td>15.0</td>\n",
       "      <td>2566997.0</td>\n",
       "      <td>11053.000000</td>\n",
       "      <td>NaN</td>\n",
       "    </tr>\n",
       "  </tbody>\n",
       "</table>\n",
       "</div>"
      ],
      "text/plain": [
       "        likesCount  commentsCount  highlightReelCount  igtvVideoCount  \\\n",
       "count   191.000000     191.000000               191.0           191.0   \n",
       "mean    206.157068      10.052356                14.0          6686.0   \n",
       "std     230.399462      27.675134                 0.0             0.0   \n",
       "min       4.000000       0.000000                14.0          6686.0   \n",
       "25%      38.000000       1.000000                14.0          6686.0   \n",
       "50%     112.000000       3.000000                14.0          6686.0   \n",
       "75%     330.500000       7.000000                14.0          6686.0   \n",
       "max    1044.000000     206.000000                14.0          6686.0   \n",
       "\n",
       "       postsCount  followsCount  followersCount  videoViewCount  \\\n",
       "count       191.0         191.0           191.0        2.000000   \n",
       "mean     103372.0          15.0       2566997.0     9102.500000   \n",
       "std           0.0           0.0             0.0     2758.423553   \n",
       "min      103372.0          15.0       2566997.0     7152.000000   \n",
       "25%      103372.0          15.0       2566997.0     8127.250000   \n",
       "50%      103372.0          15.0       2566997.0     9102.500000   \n",
       "75%      103372.0          15.0       2566997.0    10077.750000   \n",
       "max      103372.0          15.0       2566997.0    11053.000000   \n",
       "\n",
       "       videoPlayCount  \n",
       "count             0.0  \n",
       "mean              NaN  \n",
       "std               NaN  \n",
       "min               NaN  \n",
       "25%               NaN  \n",
       "50%               NaN  \n",
       "75%               NaN  \n",
       "max               NaN  "
      ]
     },
     "execution_count": 124,
     "metadata": {},
     "output_type": "execute_result"
    }
   ],
   "source": [
    "df.describe()"
   ]
  },
  {
   "cell_type": "code",
   "execution_count": 125,
   "id": "17d313eb-f22b-4673-8b34-28b51fca9f81",
   "metadata": {
    "tags": []
   },
   "outputs": [
    {
     "data": {
      "text/plain": [
       "hashtags                           object\n",
       "likesCount                          int64\n",
       "commentsCount                       int64\n",
       "highlightReelCount                  int64\n",
       "igtvVideoCount                      int64\n",
       "caption                            object\n",
       "type                               object\n",
       "postsCount                          int64\n",
       "timestamp             datetime64[ns, UTC]\n",
       "followsCount                        int64\n",
       "followersCount                      int64\n",
       "videoViewCount                    float64\n",
       "productType                        object\n",
       "videoPlayCount                    float64\n",
       "dtype: object"
      ]
     },
     "execution_count": 125,
     "metadata": {},
     "output_type": "execute_result"
    }
   ],
   "source": [
    "df.dtypes"
   ]
  },
  {
   "cell_type": "code",
   "execution_count": 126,
   "id": "ba6dfc7b-7d72-4c2f-b744-e77342b6a424",
   "metadata": {
    "tags": []
   },
   "outputs": [
    {
     "name": "stdout",
     "output_type": "stream",
     "text": [
      "<class 'pandas.core.frame.DataFrame'>\n",
      "RangeIndex: 191 entries, 0 to 190\n",
      "Data columns (total 14 columns):\n",
      " #   Column              Non-Null Count  Dtype              \n",
      "---  ------              --------------  -----              \n",
      " 0   hashtags            191 non-null    object             \n",
      " 1   likesCount          191 non-null    int64              \n",
      " 2   commentsCount       191 non-null    int64              \n",
      " 3   highlightReelCount  191 non-null    int64              \n",
      " 4   igtvVideoCount      191 non-null    int64              \n",
      " 5   caption             191 non-null    object             \n",
      " 6   type                191 non-null    object             \n",
      " 7   postsCount          191 non-null    int64              \n",
      " 8   timestamp           191 non-null    datetime64[ns, UTC]\n",
      " 9   followsCount        191 non-null    int64              \n",
      " 10  followersCount      191 non-null    int64              \n",
      " 11  videoViewCount      2 non-null      float64            \n",
      " 12  productType         2 non-null      object             \n",
      " 13  videoPlayCount      0 non-null      float64            \n",
      "dtypes: datetime64[ns, UTC](1), float64(2), int64(7), object(4)\n",
      "memory usage: 21.0+ KB\n"
     ]
    }
   ],
   "source": [
    "df.info()"
   ]
  },
  {
   "cell_type": "code",
   "execution_count": 127,
   "id": "bf4632cd-d5e4-45d5-a7c4-f524a653efda",
   "metadata": {
    "tags": []
   },
   "outputs": [
    {
     "data": {
      "text/plain": [
       "hashtags                0\n",
       "likesCount              0\n",
       "commentsCount           0\n",
       "highlightReelCount      0\n",
       "igtvVideoCount          0\n",
       "caption                 0\n",
       "type                    0\n",
       "postsCount              0\n",
       "timestamp               0\n",
       "followsCount            0\n",
       "followersCount          0\n",
       "videoViewCount        189\n",
       "productType           189\n",
       "videoPlayCount        191\n",
       "dtype: int64"
      ]
     },
     "execution_count": 127,
     "metadata": {},
     "output_type": "execute_result"
    }
   ],
   "source": [
    "df.isnull().sum()"
   ]
  },
  {
   "cell_type": "code",
   "execution_count": 128,
   "id": "8a4c2504-bbbd-4b0a-8f41-66609db1ec94",
   "metadata": {
    "tags": []
   },
   "outputs": [],
   "source": [
    "df.fillna(df.mode(), inplace=True)"
   ]
  },
  {
   "cell_type": "code",
   "execution_count": 129,
   "id": "e77aae2a-67b8-4d2a-87de-4fd0654b32ce",
   "metadata": {
    "tags": []
   },
   "outputs": [],
   "source": [
    "data = df.dropna()"
   ]
  },
  {
   "cell_type": "code",
   "execution_count": 130,
   "id": "0a16307e-5225-400c-99d0-661e86bb2925",
   "metadata": {
    "tags": []
   },
   "outputs": [],
   "source": [
    "df.drop(['videoPlayCount', 'productType'], axis=1, inplace=True)"
   ]
  },
  {
   "cell_type": "code",
   "execution_count": 131,
   "id": "07a50f01-19e4-4147-b69a-dd6c3a23cd29",
   "metadata": {
    "tags": []
   },
   "outputs": [
    {
     "name": "stdout",
     "output_type": "stream",
     "text": [
      "<class 'pandas.core.frame.DataFrame'>\n",
      "RangeIndex: 191 entries, 0 to 190\n",
      "Data columns (total 12 columns):\n",
      " #   Column              Non-Null Count  Dtype              \n",
      "---  ------              --------------  -----              \n",
      " 0   hashtags            191 non-null    object             \n",
      " 1   likesCount          191 non-null    int64              \n",
      " 2   commentsCount       191 non-null    int64              \n",
      " 3   highlightReelCount  191 non-null    int64              \n",
      " 4   igtvVideoCount      191 non-null    int64              \n",
      " 5   caption             191 non-null    object             \n",
      " 6   type                191 non-null    object             \n",
      " 7   postsCount          191 non-null    int64              \n",
      " 8   timestamp           191 non-null    datetime64[ns, UTC]\n",
      " 9   followsCount        191 non-null    int64              \n",
      " 10  followersCount      191 non-null    int64              \n",
      " 11  videoViewCount      3 non-null      float64            \n",
      "dtypes: datetime64[ns, UTC](1), float64(1), int64(7), object(3)\n",
      "memory usage: 18.0+ KB\n"
     ]
    }
   ],
   "source": [
    "df.info()"
   ]
  },
  {
   "cell_type": "markdown",
   "id": "9b2e41f7-b23f-4721-a42f-19b9d2c09b0c",
   "metadata": {
    "tags": []
   },
   "source": [
    "# Distribution of videoViewCount"
   ]
  },
  {
   "cell_type": "code",
   "execution_count": 132,
   "id": "fc3a1c60-4c7a-4a37-8f9b-ff256c900615",
   "metadata": {
    "tags": []
   },
   "outputs": [],
   "source": [
    "# separate the timestamp column into individual columns\n",
    "df['year'] = df['timestamp'].dt.year\n",
    "df['month'] = df['timestamp'].dt.month\n",
    "df['day'] = df['timestamp'].dt.day\n",
    "df['hour'] = df['timestamp'].dt.hour\n",
    "df['minute'] = df['timestamp'].dt.minute\n",
    "df['second'] = df['timestamp'].dt.second"
   ]
  },
  {
   "cell_type": "code",
   "execution_count": 133,
   "id": "bce18c02-8c8e-4a19-b36d-a0d259035ef7",
   "metadata": {
    "tags": []
   },
   "outputs": [
    {
     "data": {
      "text/plain": [
       "hashtags                           object\n",
       "likesCount                          int64\n",
       "commentsCount                       int64\n",
       "highlightReelCount                  int64\n",
       "igtvVideoCount                      int64\n",
       "caption                            object\n",
       "type                               object\n",
       "postsCount                          int64\n",
       "timestamp             datetime64[ns, UTC]\n",
       "followsCount                        int64\n",
       "followersCount                      int64\n",
       "videoViewCount                    float64\n",
       "year                                int64\n",
       "month                               int64\n",
       "day                                 int64\n",
       "hour                                int64\n",
       "minute                              int64\n",
       "second                              int64\n",
       "dtype: object"
      ]
     },
     "execution_count": 133,
     "metadata": {},
     "output_type": "execute_result"
    }
   ],
   "source": [
    "df.dtypes"
   ]
  },
  {
   "cell_type": "code",
   "execution_count": 134,
   "id": "e31e7d24-3159-42d9-85b3-6db945e1659c",
   "metadata": {
    "tags": []
   },
   "outputs": [
    {
     "name": "stderr",
     "output_type": "stream",
     "text": [
      "C:\\Users\\Figo\\AppData\\Local\\Temp\\ipykernel_5476\\228143262.py:4: UserWarning:\n",
      "\n",
      "\n",
      "\n",
      "`distplot` is a deprecated function and will be removed in seaborn v0.14.0.\n",
      "\n",
      "Please adapt your code to use either `displot` (a figure-level function with\n",
      "similar flexibility) or `histplot` (an axes-level function for histograms).\n",
      "\n",
      "For a guide to updating your code to use the new functions, please see\n",
      "https://gist.github.com/mwaskom/de44147ed2974457ad6372750bbe5751\n",
      "\n",
      "\n"
     ]
    },
    {
     "data": {
      "image/png": "[encoded data removed]",
      "text/plain": [
       "<Figure size 1000x800 with 1 Axes>"
      ]
     },
     "metadata": {},
     "output_type": "display_data"
    }
   ],
   "source": [
    "plt.figure(figsize=(10, 8))\n",
    "plt.style.use('fivethirtyeight')\n",
    "plt.title(\"Distribution of Impressions From videoViewCount\")\n",
    "sns.distplot(df['videoViewCount'])\n",
    "plt.show()"
   ]
  },
  {
   "cell_type": "markdown",
   "id": "d23c7d7c-f1bf-4a08-850a-2b36ff16471c",
   "metadata": {
    "tags": []
   },
   "source": [
    "# Distribution of likesCount"
   ]
  },
  {
   "cell_type": "code",
   "execution_count": 135,
   "id": "e8d13190-a847-49ed-a410-085de919f1ff",
   "metadata": {
    "tags": []
   },
   "outputs": [
    {
     "name": "stderr",
     "output_type": "stream",
     "text": [
      "C:\\Users\\Figo\\AppData\\Local\\Temp\\ipykernel_5476\\185601827.py:4: UserWarning:\n",
      "\n",
      "\n",
      "\n",
      "`distplot` is a deprecated function and will be removed in seaborn v0.14.0.\n",
      "\n",
      "Please adapt your code to use either `displot` (a figure-level function with\n",
      "similar flexibility) or `histplot` (an axes-level function for histograms).\n",
      "\n",
      "For a guide to updating your code to use the new functions, please see\n",
      "https://gist.github.com/mwaskom/de44147ed2974457ad6372750bbe5751\n",
      "\n",
      "\n"
     ]
    },
    {
     "data": {
      "image/png": "[encoded data removed]",
      "text/plain": [
       "<Figure size 1000x800 with 1 Axes>"
      ]
     },
     "metadata": {},
     "output_type": "display_data"
    }
   ],
   "source": [
    "plt.figure(figsize=(10, 8))\n",
    "plt.style.use('fivethirtyeight')\n",
    "plt.title(\"Distribution of Impressions From likesCount\")\n",
    "sns.distplot(df['likesCount'])\n",
    "plt.show()"
   ]
  },
  {
   "cell_type": "markdown",
   "id": "c527b2a7-42fa-4539-9f2a-d15ce456bdfd",
   "metadata": {},
   "source": [
    "# Distribution of commentsCount"
   ]
  },
  {
   "cell_type": "code",
   "execution_count": 136,
   "id": "af76b365-e7a8-4615-a31b-c90668f08cab",
   "metadata": {
    "tags": []
   },
   "outputs": [
    {
     "name": "stderr",
     "output_type": "stream",
     "text": [
      "C:\\Users\\Figo\\AppData\\Local\\Temp\\ipykernel_5476\\1886878830.py:4: UserWarning:\n",
      "\n",
      "\n",
      "\n",
      "`distplot` is a deprecated function and will be removed in seaborn v0.14.0.\n",
      "\n",
      "Please adapt your code to use either `displot` (a figure-level function with\n",
      "similar flexibility) or `histplot` (an axes-level function for histograms).\n",
      "\n",
      "For a guide to updating your code to use the new functions, please see\n",
      "https://gist.github.com/mwaskom/de44147ed2974457ad6372750bbe5751\n",
      "\n",
      "\n"
     ]
    },
    {
     "data": {
      "image/png": "[encoded data removed]",
      "text/plain": [
       "<Figure size 1000x800 with 1 Axes>"
      ]
     },
     "metadata": {},
     "output_type": "display_data"
    }
   ],
   "source": [
    "plt.figure(figsize=(10, 8))\n",
    "plt.style.use('fivethirtyeight')\n",
    "plt.title(\"Distribution of Impressions From commentsCount\")\n",
    "sns.distplot(df['commentsCount'])\n",
    "plt.show()"
   ]
  },
  {
   "cell_type": "code",
   "execution_count": 137,
   "id": "1151c6fd-88a1-447d-b81c-9a8b46eaa0ec",
   "metadata": {
    "tags": []
   },
   "outputs": [
    {
     "data": {
      "application/vnd.plotly.v1+json": {
       "config": {
        "plotlyServerURL": "https://plot.ly"
       },
       "data": [
        {
         "domain": {
          "x": [
           0,
           1
          ],
          "y": [
           0,
           1
          ]
         },
         "hole": 0.5,
         "hovertemplate": "label=%{label}<br>value=%{value}<extra></extra>",
         "labels": [
          "likesCount",
          "commentsCount",
          "videoViewCount"
         ],
         "legendgroup": "",
         "name": "",
         "showlegend": true,
         "type": "pie",
         "values": [
          39376,
          1920,
          25357
         ]
        }
       ],
       "layout": {
        "autosize": true,
        "legend": {
         "tracegroupgap": 0
        },
        "template": {
         "data": {
          "bar": [
           {
            "error_x": {
             "color": "#2a3f5f"
            },
            "error_y": {
             "color": "#2a3f5f"
            },
            "marker": {
             "line": {
              "color": "#E5ECF6",
              "width": 0.5
             },
             "pattern": {
              "fillmode": "overlay",
              "size": 10,
              "solidity": 0.2
             }
            },
            "type": "bar"
           }
          ],
          "barpolar": [
           {
            "marker": {
             "line": {
              "color": "#E5ECF6",
              "width": 0.5
             },
             "pattern": {
              "fillmode": "overlay",
              "size": 10,
              "solidity": 0.2
             }
            },
            "type": "barpolar"
           }
          ],
          "carpet": [
           {
            "aaxis": {
             "endlinecolor": "#2a3f5f",
             "gridcolor": "white",
             "linecolor": "white",
             "minorgridcolor": "white",
             "startlinecolor": "#2a3f5f"
            },
            "baxis": {
             "endlinecolor": "#2a3f5f",
             "gridcolor": "white",
             "linecolor": "white",
             "minorgridcolor": "white",
             "startlinecolor": "#2a3f5f"
            },
            "type": "carpet"
           }
          ],
          "choropleth": [
           {
            "colorbar": {
             "outlinewidth": 0,
             "ticks": ""
            },
            "type": "choropleth"
           }
          ],
          "contour": [
           {
            "colorbar": {
             "outlinewidth": 0,
             "ticks": ""
            },
            "colorscale": [
             [
              0,
              "#0d0887"
             ],
             [
              0.1111111111111111,
              "#46039f"
             ],
             [
              0.2222222222222222,
              "#7201a8"
             ],
             [
              0.3333333333333333,
              "#9c179e"
             ],
             [
              0.4444444444444444,
              "#bd3786"
             ],
             [
              0.5555555555555556,
              "#d8576b"
             ],
             [
              0.6666666666666666,
              "#ed7953"
             ],
             [
              0.7777777777777778,
              "#fb9f3a"
             ],
             [
              0.8888888888888888,
              "#fdca26"
             ],
             [
              1,
              "#f0f921"
             ]
            ],
            "type": "contour"
           }
          ],
          "contourcarpet": [
           {
            "colorbar": {
             "outlinewidth": 0,
             "ticks": ""
            },
            "type": "contourcarpet"
           }
          ],
          "heatmap": [
           {
            "colorbar": {
             "outlinewidth": 0,
             "ticks": ""
            },
            "colorscale": [
             [
              0,
              "#0d0887"
             ],
             [
              0.1111111111111111,
              "#46039f"
             ],
             [
              0.2222222222222222,
              "#7201a8"
             ],
             [
              0.3333333333333333,
              "#9c179e"
             ],
             [
              0.4444444444444444,
              "#bd3786"
             ],
             [
              0.5555555555555556,
              "#d8576b"
             ],
             [
              0.6666666666666666,
              "#ed7953"
             ],
             [
              0.7777777777777778,
              "#fb9f3a"
             ],
             [
              0.8888888888888888,
              "#fdca26"
             ],
             [
              1,
              "#f0f921"
             ]
            ],
            "type": "heatmap"
           }
          ],
          "heatmapgl": [
           {
            "colorbar": {
             "outlinewidth": 0,
             "ticks": ""
            },
            "colorscale": [
             [
              0,
              "#0d0887"
             ],
             [
              0.1111111111111111,
              "#46039f"
             ],
             [
              0.2222222222222222,
              "#7201a8"
             ],
             [
              0.3333333333333333,
              "#9c179e"
             ],
             [
              0.4444444444444444,
              "#bd3786"
             ],
             [
              0.5555555555555556,
              "#d8576b"
             ],
             [
              0.6666666666666666,
              "#ed7953"
             ],
             [
              0.7777777777777778,
              "#fb9f3a"
             ],
             [
              0.8888888888888888,
              "#fdca26"
             ],
             [
              1,
              "#f0f921"
             ]
            ],
            "type": "heatmapgl"
           }
          ],
          "histogram": [
           {
            "marker": {
             "pattern": {
              "fillmode": "overlay",
              "size": 10,
              "solidity": 0.2
             }
            },
            "type": "histogram"
           }
          ],
          "histogram2d": [
           {
            "colorbar": {
             "outlinewidth": 0,
             "ticks": ""
            },
            "colorscale": [
             [
              0,
              "#0d0887"
             ],
             [
              0.1111111111111111,
              "#46039f"
             ],
             [
              0.2222222222222222,
              "#7201a8"
             ],
             [
              0.3333333333333333,
              "#9c179e"
             ],
             [
              0.4444444444444444,
              "#bd3786"
             ],
             [
              0.5555555555555556,
              "#d8576b"
             ],
             [
              0.6666666666666666,
              "#ed7953"
             ],
             [
              0.7777777777777778,
              "#fb9f3a"
             ],
             [
              0.8888888888888888,
              "#fdca26"
             ],
             [
              1,
              "#f0f921"
             ]
            ],
            "type": "histogram2d"
           }
          ],
          "histogram2dcontour": [
           {
            "colorbar": {
             "outlinewidth": 0,
             "ticks": ""
            },
            "colorscale": [
             [
              0,
              "#0d0887"
             ],
             [
              0.1111111111111111,
              "#46039f"
             ],
             [
              0.2222222222222222,
              "#7201a8"
             ],
             [
              0.3333333333333333,
              "#9c179e"
             ],
             [
              0.4444444444444444,
              "#bd3786"
             ],
             [
              0.5555555555555556,
              "#d8576b"
             ],
             [
              0.6666666666666666,
              "#ed7953"
             ],
             [
              0.7777777777777778,
              "#fb9f3a"
             ],
             [
              0.8888888888888888,
              "#fdca26"
             ],
             [
              1,
              "#f0f921"
             ]
            ],
            "type": "histogram2dcontour"
           }
          ],
          "mesh3d": [
           {
            "colorbar": {
             "outlinewidth": 0,
             "ticks": ""
            },
            "type": "mesh3d"
           }
          ],
          "parcoords": [
           {
            "line": {
             "colorbar": {
              "outlinewidth": 0,
              "ticks": ""
             }
            },
            "type": "parcoords"
           }
          ],
          "pie": [
           {
            "automargin": true,
            "type": "pie"
           }
          ],
          "scatter": [
           {
            "fillpattern": {
             "fillmode": "overlay",
             "size": 10,
             "solidity": 0.2
            },
            "type": "scatter"
           }
          ],
          "scatter3d": [
           {
            "line": {
             "colorbar": {
              "outlinewidth": 0,
              "ticks": ""
             }
            },
            "marker": {
             "colorbar": {
              "outlinewidth": 0,
              "ticks": ""
             }
            },
            "type": "scatter3d"
           }
          ],
          "scattercarpet": [
           {
            "marker": {
             "colorbar": {
              "outlinewidth": 0,
              "ticks": ""
             }
            },
            "type": "scattercarpet"
           }
          ],
          "scattergeo": [
           {
            "marker": {
             "colorbar": {
              "outlinewidth": 0,
              "ticks": ""
             }
            },
            "type": "scattergeo"
           }
          ],
          "scattergl": [
           {
            "marker": {
             "colorbar": {
              "outlinewidth": 0,
              "ticks": ""
             }
            },
            "type": "scattergl"
           }
          ],
          "scattermapbox": [
           {
            "marker": {
             "colorbar": {
              "outlinewidth": 0,
              "ticks": ""
             }
            },
            "type": "scattermapbox"
           }
          ],
          "scatterpolar": [
           {
            "marker": {
             "colorbar": {
              "outlinewidth": 0,
              "ticks": ""
             }
            },
            "type": "scatterpolar"
           }
          ],
          "scatterpolargl": [
           {
            "marker": {
             "colorbar": {
              "outlinewidth": 0,
              "ticks": ""
             }
            },
            "type": "scatterpolargl"
           }
          ],
          "scatterternary": [
           {
            "marker": {
             "colorbar": {
              "outlinewidth": 0,
              "ticks": ""
             }
            },
            "type": "scatterternary"
           }
          ],
          "surface": [
           {
            "colorbar": {
             "outlinewidth": 0,
             "ticks": ""
            },
            "colorscale": [
             [
              0,
              "#0d0887"
             ],
             [
              0.1111111111111111,
              "#46039f"
             ],
             [
              0.2222222222222222,
              "#7201a8"
             ],
             [
              0.3333333333333333,
              "#9c179e"
             ],
             [
              0.4444444444444444,
              "#bd3786"
             ],
             [
              0.5555555555555556,
              "#d8576b"
             ],
             [
              0.6666666666666666,
              "#ed7953"
             ],
             [
              0.7777777777777778,
              "#fb9f3a"
             ],
             [
              0.8888888888888888,
              "#fdca26"
             ],
             [
              1,
              "#f0f921"
             ]
            ],
            "type": "surface"
           }
          ],
          "table": [
           {
            "cells": {
             "fill": {
              "color": "#EBF0F8"
             },
             "line": {
              "color": "white"
             }
            },
            "header": {
             "fill": {
              "color": "#C8D4E3"
             },
             "line": {
              "color": "white"
             }
            },
            "type": "table"
           }
          ]
         },
         "layout": {
          "annotationdefaults": {
           "arrowcolor": "#2a3f5f",
           "arrowhead": 0,
           "arrowwidth": 1
          },
          "autotypenumbers": "strict",
          "coloraxis": {
           "colorbar": {
            "outlinewidth": 0,
            "ticks": ""
           }
          },
          "colorscale": {
           "diverging": [
            [
             0,
             "#8e0152"
            ],
            [
             0.1,
             "#c51b7d"
            ],
            [
             0.2,
             "#de77ae"
            ],
            [
             0.3,
             "#f1b6da"
            ],
            [
             0.4,
             "#fde0ef"
            ],
            [
             0.5,
             "#f7f7f7"
            ],
            [
             0.6,
             "#e6f5d0"
            ],
            [
             0.7,
             "#b8e186"
            ],
            [
             0.8,
             "#7fbc41"
            ],
            [
             0.9,
             "#4d9221"
            ],
            [
             1,
             "#276419"
            ]
           ],
           "sequential": [
            [
             0,
             "#0d0887"
            ],
            [
             0.1111111111111111,
             "#46039f"
            ],
            [
             0.2222222222222222,
             "#7201a8"
            ],
            [
             0.3333333333333333,
             "#9c179e"
            ],
            [
             0.4444444444444444,
             "#bd3786"
            ],
            [
             0.5555555555555556,
             "#d8576b"
            ],
            [
             0.6666666666666666,
             "#ed7953"
            ],
            [
             0.7777777777777778,
             "#fb9f3a"
            ],
            [
             0.8888888888888888,
             "#fdca26"
            ],
            [
             1,
             "#f0f921"
            ]
           ],
           "sequentialminus": [
            [
             0,
             "#0d0887"
            ],
            [
             0.1111111111111111,
             "#46039f"
            ],
            [
             0.2222222222222222,
             "#7201a8"
            ],
            [
             0.3333333333333333,
             "#9c179e"
            ],
            [
             0.4444444444444444,
             "#bd3786"
            ],
            [
             0.5555555555555556,
             "#d8576b"
            ],
            [
             0.6666666666666666,
             "#ed7953"
            ],
            [
             0.7777777777777778,
             "#fb9f3a"
            ],
            [
             0.8888888888888888,
             "#fdca26"
            ],
            [
             1,
             "#f0f921"
            ]
           ]
          },
          "colorway": [
           "#636efa",
           "#EF553B",
           "#00cc96",
           "#ab63fa",
           "#FFA15A",
           "#19d3f3",
           "#FF6692",
           "#B6E880",
           "#FF97FF",
           "#FECB52"
          ],
          "font": {
           "color": "#2a3f5f"
          },
          "geo": {
           "bgcolor": "white",
           "lakecolor": "white",
           "landcolor": "#E5ECF6",
           "showlakes": true,
           "showland": true,
           "subunitcolor": "white"
          },
          "hoverlabel": {
           "align": "left"
          },
          "hovermode": "closest",
          "mapbox": {
           "style": "light"
          },
          "paper_bgcolor": "white",
          "plot_bgcolor": "#E5ECF6",
          "polar": {
           "angularaxis": {
            "gridcolor": "white",
            "linecolor": "white",
            "ticks": ""
           },
           "bgcolor": "#E5ECF6",
           "radialaxis": {
            "gridcolor": "white",
            "linecolor": "white",
            "ticks": ""
           }
          },
          "scene": {
           "xaxis": {
            "backgroundcolor": "#E5ECF6",
            "gridcolor": "white",
            "gridwidth": 2,
            "linecolor": "white",
            "showbackground": true,
            "ticks": "",
            "zerolinecolor": "white"
           },
           "yaxis": {
            "backgroundcolor": "#E5ECF6",
            "gridcolor": "white",
            "gridwidth": 2,
            "linecolor": "white",
            "showbackground": true,
            "ticks": "",
            "zerolinecolor": "white"
           },
           "zaxis": {
            "backgroundcolor": "#E5ECF6",
            "gridcolor": "white",
            "gridwidth": 2,
            "linecolor": "white",
            "showbackground": true,
            "ticks": "",
            "zerolinecolor": "white"
           }
          },
          "shapedefaults": {
           "line": {
            "color": "#2a3f5f"
           }
          },
          "ternary": {
           "aaxis": {
            "gridcolor": "white",
            "linecolor": "white",
            "ticks": ""
           },
           "baxis": {
            "gridcolor": "white",
            "linecolor": "white",
            "ticks": ""
           },
           "bgcolor": "#E5ECF6",
           "caxis": {
            "gridcolor": "white",
            "linecolor": "white",
            "ticks": ""
           }
          },
          "title": {
           "x": 0.05
          },
          "xaxis": {
           "automargin": true,
           "gridcolor": "white",
           "linecolor": "white",
           "ticks": "",
           "title": {
            "standoff": 15
           },
           "zerolinecolor": "white",
           "zerolinewidth": 2
          },
          "yaxis": {
           "automargin": true,
           "gridcolor": "white",
           "linecolor": "white",
           "ticks": "",
           "title": {
            "standoff": 15
           },
           "zerolinecolor": "white",
           "zerolinewidth": 2
          }
         }
        },
        "title": {
         "text": "Impressions on Instagram Posts From Various Sources"
        }
       }
      },
      "image/png": "[encoded data removed]",
      "text/html": [
       "<div>                            <div id=\"d19fe821-62b3-4f34-b314-7e9bd4f3fed8\" class=\"plotly-graph-div\" style=\"height:525px; width:100%;\"></div>            <script type=\"text/javascript\">                require([\"plotly\"], function(Plotly) {                    window.PLOTLYENV=window.PLOTLYENV || {};                                    if (document.getElementById(\"d19fe821-62b3-4f34-b314-7e9bd4f3fed8\")) {                    Plotly.newPlot(                        \"d19fe821-62b3-4f34-b314-7e9bd4f3fed8\",                        [{\"domain\":{\"x\":[0.0,1.0],\"y\":[0.0,1.0]},\"hole\":0.5,\"hovertemplate\":\"label=%{label}<br>value=%{value}<extra></extra>\",\"labels\":[\"likesCount\",\"commentsCount\",\"videoViewCount\"],\"legendgroup\":\"\",\"name\":\"\",\"showlegend\":true,\"values\":[39376.0,1920.0,25357.0],\"type\":\"pie\"}],                        {\"template\":{\"data\":{\"histogram2dcontour\":[{\"type\":\"histogram2dcontour\",\"colorbar\":{\"outlinewidth\":0,\"ticks\":\"\"},\"colorscale\":[[0.0,\"#0d0887\"],[0.1111111111111111,\"#46039f\"],[0.2222222222222222,\"#7201a8\"],[0.3333333333333333,\"#9c179e\"],[0.4444444444444444,\"#bd3786\"],[0.5555555555555556,\"#d8576b\"],[0.6666666666666666,\"#ed7953\"],[0.7777777777777778,\"#fb9f3a\"],[0.8888888888888888,\"#fdca26\"],[1.0,\"#f0f921\"]]}],\"choropleth\":[{\"type\":\"choropleth\",\"colorbar\":{\"outlinewidth\":0,\"ticks\":\"\"}}],\"histogram2d\":[{\"type\":\"histogram2d\",\"colorbar\":{\"outlinewidth\":0,\"ticks\":\"\"},\"colorscale\":[[0.0,\"#0d0887\"],[0.1111111111111111,\"#46039f\"],[0.2222222222222222,\"#7201a8\"],[0.3333333333333333,\"#9c179e\"],[0.4444444444444444,\"#bd3786\"],[0.5555555555555556,\"#d8576b\"],[0.6666666666666666,\"#ed7953\"],[0.7777777777777778,\"#fb9f3a\"],[0.8888888888888888,\"#fdca26\"],[1.0,\"#f0f921\"]]}],\"heatmap\":[{\"type\":\"heatmap\",\"colorbar\":{\"outlinewidth\":0,\"ticks\":\"\"},\"colorscale\":[[0.0,\"#0d0887\"],[0.1111111111111111,\"#46039f\"],[0.2222222222222222,\"#7201a8\"],[0.3333333333333333,\"#9c179e\"],[0.4444444444444444,\"#bd3786\"],[0.5555555555555556,\"#d8576b\"],[0.6666666666666666,\"#ed7953\"],[0.7777777777777778,\"#fb9f3a\"],[0.8888888888888888,\"#fdca26\"],[1.0,\"#f0f921\"]]}],\"heatmapgl\":[{\"type\":\"heatmapgl\",\"colorbar\":{\"outlinewidth\":0,\"ticks\":\"\"},\"colorscale\":[[0.0,\"#0d0887\"],[0.1111111111111111,\"#46039f\"],[0.2222222222222222,\"#7201a8\"],[0.3333333333333333,\"#9c179e\"],[0.4444444444444444,\"#bd3786\"],[0.5555555555555556,\"#d8576b\"],[0.6666666666666666,\"#ed7953\"],[0.7777777777777778,\"#fb9f3a\"],[0.8888888888888888,\"#fdca26\"],[1.0,\"#f0f921\"]]}],\"contourcarpet\":[{\"type\":\"contourcarpet\",\"colorbar\":{\"outlinewidth\":0,\"ticks\":\"\"}}],\"contour\":[{\"type\":\"contour\",\"colorbar\":{\"outlinewidth\":0,\"ticks\":\"\"},\"colorscale\":[[0.0,\"#0d0887\"],[0.1111111111111111,\"#46039f\"],[0.2222222222222222,\"#7201a8\"],[0.3333333333333333,\"#9c179e\"],[0.4444444444444444,\"#bd3786\"],[0.5555555555555556,\"#d8576b\"],[0.6666666666666666,\"#ed7953\"],[0.7777777777777778,\"#fb9f3a\"],[0.8888888888888888,\"#fdca26\"],[1.0,\"#f0f921\"]]}],\"surface\":[{\"type\":\"surface\",\"colorbar\":{\"outlinewidth\":0,\"ticks\":\"\"},\"colorscale\":[[0.0,\"#0d0887\"],[0.1111111111111111,\"#46039f\"],[0.2222222222222222,\"#7201a8\"],[0.3333333333333333,\"#9c179e\"],[0.4444444444444444,\"#bd3786\"],[0.5555555555555556,\"#d8576b\"],[0.6666666666666666,\"#ed7953\"],[0.7777777777777778,\"#fb9f3a\"],[0.8888888888888888,\"#fdca26\"],[1.0,\"#f0f921\"]]}],\"mesh3d\":[{\"type\":\"mesh3d\",\"colorbar\":{\"outlinewidth\":0,\"ticks\":\"\"}}],\"scatter\":[{\"fillpattern\":{\"fillmode\":\"overlay\",\"size\":10,\"solidity\":0.2},\"type\":\"scatter\"}],\"parcoords\":[{\"type\":\"parcoords\",\"line\":{\"colorbar\":{\"outlinewidth\":0,\"ticks\":\"\"}}}],\"scatterpolargl\":[{\"type\":\"scatterpolargl\",\"marker\":{\"colorbar\":{\"outlinewidth\":0,\"ticks\":\"\"}}}],\"bar\":[{\"error_x\":{\"color\":\"#2a3f5f\"},\"error_y\":{\"color\":\"#2a3f5f\"},\"marker\":{\"line\":{\"color\":\"#E5ECF6\",\"width\":0.5},\"pattern\":{\"fillmode\":\"overlay\",\"size\":10,\"solidity\":0.2}},\"type\":\"bar\"}],\"scattergeo\":[{\"type\":\"scattergeo\",\"marker\":{\"colorbar\":{\"outlinewidth\":0,\"ticks\":\"\"}}}],\"scatterpolar\":[{\"type\":\"scatterpolar\",\"marker\":{\"colorbar\":{\"outlinewidth\":0,\"ticks\":\"\"}}}],\"histogram\":[{\"marker\":{\"pattern\":{\"fillmode\":\"overlay\",\"size\":10,\"solidity\":0.2}},\"type\":\"histogram\"}],\"scattergl\":[{\"type\":\"scattergl\",\"marker\":{\"colorbar\":{\"outlinewidth\":0,\"ticks\":\"\"}}}],\"scatter3d\":[{\"type\":\"scatter3d\",\"line\":{\"colorbar\":{\"outlinewidth\":0,\"ticks\":\"\"}},\"marker\":{\"colorbar\":{\"outlinewidth\":0,\"ticks\":\"\"}}}],\"scattermapbox\":[{\"type\":\"scattermapbox\",\"marker\":{\"colorbar\":{\"outlinewidth\":0,\"ticks\":\"\"}}}],\"scatterternary\":[{\"type\":\"scatterternary\",\"marker\":{\"colorbar\":{\"outlinewidth\":0,\"ticks\":\"\"}}}],\"scattercarpet\":[{\"type\":\"scattercarpet\",\"marker\":{\"colorbar\":{\"outlinewidth\":0,\"ticks\":\"\"}}}],\"carpet\":[{\"aaxis\":{\"endlinecolor\":\"#2a3f5f\",\"gridcolor\":\"white\",\"linecolor\":\"white\",\"minorgridcolor\":\"white\",\"startlinecolor\":\"#2a3f5f\"},\"baxis\":{\"endlinecolor\":\"#2a3f5f\",\"gridcolor\":\"white\",\"linecolor\":\"white\",\"minorgridcolor\":\"white\",\"startlinecolor\":\"#2a3f5f\"},\"type\":\"carpet\"}],\"table\":[{\"cells\":{\"fill\":{\"color\":\"#EBF0F8\"},\"line\":{\"color\":\"white\"}},\"header\":{\"fill\":{\"color\":\"#C8D4E3\"},\"line\":{\"color\":\"white\"}},\"type\":\"table\"}],\"barpolar\":[{\"marker\":{\"line\":{\"color\":\"#E5ECF6\",\"width\":0.5},\"pattern\":{\"fillmode\":\"overlay\",\"size\":10,\"solidity\":0.2}},\"type\":\"barpolar\"}],\"pie\":[{\"automargin\":true,\"type\":\"pie\"}]},\"layout\":{\"autotypenumbers\":\"strict\",\"colorway\":[\"#636efa\",\"#EF553B\",\"#00cc96\",\"#ab63fa\",\"#FFA15A\",\"#19d3f3\",\"#FF6692\",\"#B6E880\",\"#FF97FF\",\"#FECB52\"],\"font\":{\"color\":\"#2a3f5f\"},\"hovermode\":\"closest\",\"hoverlabel\":{\"align\":\"left\"},\"paper_bgcolor\":\"white\",\"plot_bgcolor\":\"#E5ECF6\",\"polar\":{\"bgcolor\":\"#E5ECF6\",\"angularaxis\":{\"gridcolor\":\"white\",\"linecolor\":\"white\",\"ticks\":\"\"},\"radialaxis\":{\"gridcolor\":\"white\",\"linecolor\":\"white\",\"ticks\":\"\"}},\"ternary\":{\"bgcolor\":\"#E5ECF6\",\"aaxis\":{\"gridcolor\":\"white\",\"linecolor\":\"white\",\"ticks\":\"\"},\"baxis\":{\"gridcolor\":\"white\",\"linecolor\":\"white\",\"ticks\":\"\"},\"caxis\":{\"gridcolor\":\"white\",\"linecolor\":\"white\",\"ticks\":\"\"}},\"coloraxis\":{\"colorbar\":{\"outlinewidth\":0,\"ticks\":\"\"}},\"colorscale\":{\"sequential\":[[0.0,\"#0d0887\"],[0.1111111111111111,\"#46039f\"],[0.2222222222222222,\"#7201a8\"],[0.3333333333333333,\"#9c179e\"],[0.4444444444444444,\"#bd3786\"],[0.5555555555555556,\"#d8576b\"],[0.6666666666666666,\"#ed7953\"],[0.7777777777777778,\"#fb9f3a\"],[0.8888888888888888,\"#fdca26\"],[1.0,\"#f0f921\"]],\"sequentialminus\":[[0.0,\"#0d0887\"],[0.1111111111111111,\"#46039f\"],[0.2222222222222222,\"#7201a8\"],[0.3333333333333333,\"#9c179e\"],[0.4444444444444444,\"#bd3786\"],[0.5555555555555556,\"#d8576b\"],[0.6666666666666666,\"#ed7953\"],[0.7777777777777778,\"#fb9f3a\"],[0.8888888888888888,\"#fdca26\"],[1.0,\"#f0f921\"]],\"diverging\":[[0,\"#8e0152\"],[0.1,\"#c51b7d\"],[0.2,\"#de77ae\"],[0.3,\"#f1b6da\"],[0.4,\"#fde0ef\"],[0.5,\"#f7f7f7\"],[0.6,\"#e6f5d0\"],[0.7,\"#b8e186\"],[0.8,\"#7fbc41\"],[0.9,\"#4d9221\"],[1,\"#276419\"]]},\"xaxis\":{\"gridcolor\":\"white\",\"linecolor\":\"white\",\"ticks\":\"\",\"title\":{\"standoff\":15},\"zerolinecolor\":\"white\",\"automargin\":true,\"zerolinewidth\":2},\"yaxis\":{\"gridcolor\":\"white\",\"linecolor\":\"white\",\"ticks\":\"\",\"title\":{\"standoff\":15},\"zerolinecolor\":\"white\",\"automargin\":true,\"zerolinewidth\":2},\"scene\":{\"xaxis\":{\"backgroundcolor\":\"#E5ECF6\",\"gridcolor\":\"white\",\"linecolor\":\"white\",\"showbackground\":true,\"ticks\":\"\",\"zerolinecolor\":\"white\",\"gridwidth\":2},\"yaxis\":{\"backgroundcolor\":\"#E5ECF6\",\"gridcolor\":\"white\",\"linecolor\":\"white\",\"showbackground\":true,\"ticks\":\"\",\"zerolinecolor\":\"white\",\"gridwidth\":2},\"zaxis\":{\"backgroundcolor\":\"#E5ECF6\",\"gridcolor\":\"white\",\"linecolor\":\"white\",\"showbackground\":true,\"ticks\":\"\",\"zerolinecolor\":\"white\",\"gridwidth\":2}},\"shapedefaults\":{\"line\":{\"color\":\"#2a3f5f\"}},\"annotationdefaults\":{\"arrowcolor\":\"#2a3f5f\",\"arrowhead\":0,\"arrowwidth\":1},\"geo\":{\"bgcolor\":\"white\",\"landcolor\":\"#E5ECF6\",\"subunitcolor\":\"white\",\"showland\":true,\"showlakes\":true,\"lakecolor\":\"white\"},\"title\":{\"x\":0.05},\"mapbox\":{\"style\":\"light\"}}},\"legend\":{\"tracegroupgap\":0},\"title\":{\"text\":\"Impressions on Instagram Posts From Various Sources\"}},                        {\"responsive\": true}                    ).then(function(){\n",
       "                            \n",
       "var gd = document.getElementById('d19fe821-62b3-4f34-b314-7e9bd4f3fed8');\n",
       "var x = new MutationObserver(function (mutations, observer) {{\n",
       "        var display = window.getComputedStyle(gd).display;\n",
       "        if (!display || display === 'none') {{\n",
       "            console.log([gd, 'removed!']);\n",
       "            Plotly.purge(gd);\n",
       "            observer.disconnect();\n",
       "        }}\n",
       "}});\n",
       "\n",
       "// Listen for the removal of the full notebook cells\n",
       "var notebookContainer = gd.closest('#notebook-container');\n",
       "if (notebookContainer) {{\n",
       "    x.observe(notebookContainer, {childList: true});\n",
       "}}\n",
       "\n",
       "// Listen for the clearing of the current output cell\n",
       "var outputEl = gd.closest('.output');\n",
       "if (outputEl) {{\n",
       "    x.observe(outputEl, {childList: true});\n",
       "}}\n",
       "\n",
       "                        })                };                });            </script>        </div>"
      ]
     },
     "metadata": {},
     "output_type": "display_data"
    }
   ],
   "source": [
    "like = df[\"likesCount\"].sum()\n",
    "comments = df[\"commentsCount\"].sum()\n",
    "Videos = df['videoViewCount'].sum()\n",
    "\n",
    "labels = ['likesCount','commentsCount','videoViewCount']\n",
    "values = [like, comments,Videos]\n",
    "\n",
    "\n",
    "fig = px.pie(data, values=values, names=labels, \n",
    "             title='Impressions on Instagram Posts From Various Sources', hole=0.5)\n",
    "fig.show()"
   ]
  },
  {
   "cell_type": "code",
   "execution_count": 138,
   "id": "7e41472a-25db-44a6-a516-3440ab486441",
   "metadata": {
    "tags": []
   },
   "outputs": [
    {
     "data": {
      "image/png": "[encoded data removed]",
      "text/plain": [
       "<Figure size 960x800 with 1 Axes>"
      ]
     },
     "metadata": {},
     "output_type": "display_data"
    }
   ],
   "source": [
    "text = \" \".join(i for i in df.caption)\n",
    "stopwords = set(STOPWORDS)\n",
    "wordcloud = WordCloud(stopwords=stopwords, background_color=\"white\").generate(text)\n",
    "plt.style.use('classic')\n",
    "plt.figure( figsize=(12,10))\n",
    "plt.imshow(wordcloud, interpolation='bilinear')\n",
    "plt.axis(\"off\")\n",
    "plt.show()"
   ]
  },
  {
   "cell_type": "code",
   "execution_count": null,
   "id": "203cca42-5b75-4c1c-bb3b-55cf8500a079",
   "metadata": {
    "tags": []
   },
   "outputs": [],
   "source": [
    "figure = px.scatter(data_frame = df, x=\"commentsCount\",\n",
    "                    y=\"likesCount\", size=\"likesCount\", trendline=\"ols\", \n",
    "                    title = \"Relationship Between Likes and Comments\")\n",
    "figure.show()"
   ]
  },
  {
   "cell_type": "code",
   "execution_count": null,
   "id": "a057c0f5-676c-4d3a-ba9b-8bd22e506af9",
   "metadata": {
    "tags": []
   },
   "outputs": [],
   "source": [
    "figure = px.scatter(data_frame = df, x=\"videoViewCount\",\n",
    "                    y=\"likesCount\", size=\"likesCount\", trendline=\"ols\", \n",
    "                    title = \"Relationship Between Likes and videoViewCount\")\n",
    "figure.show()"
   ]
  },
  {
   "cell_type": "code",
   "execution_count": null,
   "id": "e67cbf43-7970-49f5-beb5-391fa1ce2686",
   "metadata": {
    "tags": []
   },
   "outputs": [],
   "source": [
    "figure = px.scatter(data_frame = df, x=\"videoViewCount\",\n",
    "                    y=\"commentsCount\", size=\"commentsCount\", trendline=\"ols\", \n",
    "                    title = \"Relationship Between commentsCount and videoViewCount\")\n",
    "figure.show()\n"
   ]
  },
  {
   "cell_type": "markdown",
   "id": "619f8760-ca5a-4c46-9c33-3cfecf02d6c0",
   "metadata": {
    "tags": []
   },
   "source": [
    "# Using Random Forest Regressor Model, which give more efficient results, with Ensemble R^2 Score: 0.99"
   ]
  },
  {
   "cell_type": "code",
   "execution_count": null,
   "id": "cc599aea-e7e7-4055-bcb0-9f8b9c9d8d2e",
   "metadata": {
    "tags": []
   },
   "outputs": [],
   "source": [
    "import numpy as np\n",
    "import matplotlib.pyplot as plt\n",
    "from sklearn.linear_model import LinearRegression\n",
    "from sklearn.svm import SVR\n",
    "from sklearn.ensemble import RandomForestRegressor, VotingRegressor\n",
    "from sklearn.datasets import make_regression\n",
    "from sklearn.model_selection import train_test_split\n",
    "from sklearn.metrics import mean_squared_error, mean_absolute_error, r2_score"
   ]
  },
  {
   "cell_type": "code",
   "execution_count": null,
   "id": "54b2f90e-f8ca-44aa-9bf9-85d7114ca596",
   "metadata": {
    "tags": []
   },
   "outputs": [],
   "source": [
    "# Generate a regression dataset\n",
    "X, y = make_regression(n_samples=1000, n_features=10, n_informative=5, noise=0.5, random_state=42)\n",
    "# Split the dataset into training and testing sets\n",
    "X_train, X_test, y_train, y_test = train_test_split(X, y, test_size=0.2, random_state=42)"
   ]
  },
  {
   "cell_type": "code",
   "execution_count": null,
   "id": "c6c88a73-74f9-4a49-94d5-8db25a376b23",
   "metadata": {
    "tags": []
   },
   "outputs": [],
   "source": [
    "# Create the individual regression models\n",
    "lr = LinearRegression()\n",
    "svr = SVR(kernel='linear', C=1.0, epsilon=0.1)\n",
    "rf = RandomForestRegressor(n_estimators=100, max_depth=5, random_state=42)"
   ]
  },
  {
   "cell_type": "code",
   "execution_count": null,
   "id": "401fdbc7-12ba-432d-beaa-00c0f7d01d48",
   "metadata": {
    "tags": []
   },
   "outputs": [],
   "source": [
    "# Create the ensemble model\n",
    "ensemble = VotingRegressor(estimators=[('lr', lr), ('svr', svr), ('rf', rf)])\n",
    "# Fit the ensemble model on the training data\n",
    "ensemble.fit(X_train, y_train)\n",
    "# Make predictions on the test set\n",
    "y_pred = ensemble.predict(X_test)"
   ]
  },
  {
   "cell_type": "markdown",
   "id": "aa4416e8-ac81-4a4b-a5aa-0e0e4d607574",
   "metadata": {},
   "source": [
    "# Now let’s predict the reach of an Instagram post by giving inputs to the machine learning model:"
   ]
  },
  {
   "cell_type": "code",
   "execution_count": null,
   "id": "1f6ba863-a847-4323-a1b2-030e8117f86d",
   "metadata": {
    "tags": []
   },
   "outputs": [],
   "source": [
    "# Calculate evaluation metrics\n",
    "mse = mean_squared_error(y_test, y_pred)\n",
    "mae = mean_absolute_error(y_test, y_pred)\n",
    "r2 = r2_score(y_test, y_pred)\n",
    "# Print the evaluation metrics for the ensemble model\n",
    "print('Ensemble MSE:', mse)\n",
    "print('Ensemble MAE:', mae)\n",
    "print('Ensemble R^2 Score:', r2)"
   ]
  },
  {
   "cell_type": "code",
   "execution_count": null,
   "id": "8f3934cb-a58a-49e9-ba77-9c1be2c2ddc9",
   "metadata": {
    "tags": []
   },
   "outputs": [],
   "source": [
    "# Plotting the predictions vs. actual values\n",
    "plt.scatter(y_test, y_pred, alpha=0.5)\n",
    "plt.xlabel('True Values')\n",
    "plt.ylabel('Predicted Values')\n",
    "plt.title('Ensemble Model: Predicted vs. True Values')\n",
    "plt.show()"
   ]
  },
  {
   "cell_type": "code",
   "execution_count": null,
   "id": "2dc850a0-1d76-47d3-a170-7279d987ff96",
   "metadata": {
    "tags": []
   },
   "outputs": [],
   "source": [
    "import plotly.express as px\n",
    "# Create a scatter plot of the predicted versus actual values\n",
    "fig = px.scatter(x=y_test, y=y_pred)\n",
    "fig.update_layout(\n",
    "    xaxis_title='True Values',\n",
    "    yaxis_title='Predicted Values',\n",
    "    title='Ensemble Model: Predicted vs. True Values'\n",
    ")\n",
    "fig.show()"
   ]
  },
  {
   "cell_type": "code",
   "execution_count": null,
   "id": "55a44e1c-7f1f-4d76-bd3b-339c9020ba40",
   "metadata": {
    "tags": []
   },
   "outputs": [],
   "source": [
    "df.head(2)"
   ]
  },
  {
   "cell_type": "code",
   "execution_count": null,
   "id": "a3c9bb2a-b39d-454d-b5ea-2f48da1761b1",
   "metadata": {
    "tags": []
   },
   "outputs": [],
   "source": [
    "df.shape"
   ]
  },
  {
   "cell_type": "code",
   "execution_count": null,
   "id": "2dbac939-6cfd-4faa-9a66-04cabeb8cf3e",
   "metadata": {
    "tags": []
   },
   "outputs": [],
   "source": [
    "df.dtypes"
   ]
  },
  {
   "cell_type": "code",
   "execution_count": null,
   "id": "9e8bdc60-9096-47ec-a2bf-b05eecd0869c",
   "metadata": {
    "tags": []
   },
   "outputs": [],
   "source": [
    "# Define a dictionary to map 'image' and 'video' to numerical values\n",
    "#media_map = {'Image': 0, 'Video': 1}\n",
    "\n",
    "# Map 'image' and 'video' variables to numerical values\n",
    "#df['type'] = df['type'].map(media_map)"
   ]
  },
  {
   "cell_type": "code",
   "execution_count": null,
   "id": "9762dbf7-9a77-46bd-9c27-d0c655738767",
   "metadata": {},
   "outputs": [],
   "source": [
    "import plotly.express as px\n",
    "# plotting the histogram\n",
    "fig = px.histogram(df, x=\"likesCount\", color='type',\n",
    "                   nbins=50, histnorm='percent',\n",
    "                   barmode='overlay')\n",
    " \n",
    "# showing the plot\n",
    "fig.show()"
   ]
  },
  {
   "cell_type": "code",
   "execution_count": null,
   "id": "ed852b66-0fba-4cce-a92d-140595231640",
   "metadata": {
    "tags": []
   },
   "outputs": [],
   "source": [
    "fig = px.pie(df, values=\"likesCount\", names=\"month\")\n",
    "fig.show()"
   ]
  },
  {
   "cell_type": "code",
   "execution_count": null,
   "id": "9e07cb76-204c-4cef-96fc-ae499acdb20f",
   "metadata": {
    "tags": []
   },
   "outputs": [],
   "source": [
    "fig = px.pie(df, values=\"commentsCount\", names=\"year\",\n",
    "             color_discrete_sequence=px.colors.sequential.RdBu,\n",
    "             opacity=0.7, hole=0.5)\n",
    "fig.show()"
   ]
  },
  {
   "cell_type": "code",
   "execution_count": null,
   "id": "e7009481-a3f9-4c2c-a673-a8d4f967143e",
   "metadata": {
    "tags": []
   },
   "outputs": [],
   "source": [
    "# plotting the violin plot\n",
    "fig = px.violin(df, x=\"day\", y=\"likesCount\")\n",
    " \n",
    "# showing the plot\n",
    "fig.show()"
   ]
  },
  {
   "cell_type": "markdown",
   "id": "fbb6889b-a24b-4653-9984-422d9ca633c8",
   "metadata": {},
   "source": [
    "#Violin Plot"
   ]
  },
  {
   "cell_type": "code",
   "execution_count": null,
   "id": "251252b1-97dd-45fa-9db3-02d30e550303",
   "metadata": {
    "tags": []
   },
   "outputs": [],
   "source": [
    "# plotting the violin plot\n",
    "fig = px.violin(df, x=\"day\", y=\"likesCount\", color='type',\n",
    "                   box=True)\n",
    " \n",
    "# showing the plot\n",
    "fig.show()"
   ]
  },
  {
   "cell_type": "code",
   "execution_count": null,
   "id": "456d3555-d329-46ae-a2dc-7e3f0161dafd",
   "metadata": {
    "tags": []
   },
   "outputs": [],
   "source": [
    "# plotting the figure\n",
    "fig = px.scatter_3d(df, x=\"commentsCount\", y=\"type\", z=\"likesCount\")\n",
    " \n",
    "fig.show()"
   ]
  },
  {
   "cell_type": "code",
   "execution_count": null,
   "id": "3ef37c48-9fd9-4d05-8422-de87e520499b",
   "metadata": {
    "tags": []
   },
   "outputs": [],
   "source": [
    "import plotly.graph_objects as px"
   ]
  },
  {
   "cell_type": "markdown",
   "id": "b39b14f2-516e-403f-8007-e384850b554c",
   "metadata": {},
   "source": [
    "#Adding interaction to the plot"
   ]
  },
  {
   "cell_type": "code",
   "execution_count": null,
   "id": "f0a381e5-cc03-47b3-8298-5a848752815c",
   "metadata": {
    "tags": []
   },
   "outputs": [],
   "source": [
    "plot = px.Figure(data=[px.Scatter(\n",
    "    x=df['day'],\n",
    "    y=df['commentsCount'],\n",
    "    mode='markers',)\n",
    "])\n",
    " \n",
    "# Add dropdown\n",
    "plot.update_layout(\n",
    "    updatemenus=[\n",
    "        dict(buttons=list([\n",
    "            dict(\n",
    "                args=[\"type\", \"scatter\"],\n",
    "                label=\"Scatter Plot\",\n",
    "                method=\"restyle\"\n",
    "            ),\n",
    "            dict(\n",
    "                args=[\"type\", \"bar\"],\n",
    "                label=\"Bar Chart\",\n",
    "                method=\"restyle\"\n",
    "            )\n",
    "        ]),\n",
    "            direction=\"down\",\n",
    "        ),\n",
    "    ]\n",
    ")\n",
    " \n",
    "plot.show()"
   ]
  },
  {
   "cell_type": "code",
   "execution_count": null,
   "id": "7c93d2f3-1dca-41da-bf5c-bf5ad72833c0",
   "metadata": {
    "tags": []
   },
   "outputs": [],
   "source": [
    "plot = px.Figure(data=[px.Scatter(\n",
    "    x=data['type'],\n",
    "    y=data['year'],\n",
    "    mode='markers',)\n",
    "])\n",
    " \n",
    "# Add dropdown\n",
    "plot.update_layout(\n",
    "    updatemenus=[\n",
    "        dict(\n",
    "            type=\"buttons\",\n",
    "            direction=\"left\",\n",
    "            buttons=list([\n",
    "                dict(\n",
    "                    args=[\"type\", \"scatter\"],\n",
    "                    label=\"Scatter Plot\",\n",
    "                    method=\"restyle\"\n",
    "                ),\n",
    "                dict(\n",
    "                    args=[\"type\", \"bar\"],\n",
    "                    label=\"Bar Chart\",\n",
    "                    method=\"restyle\"\n",
    "                )\n",
    "            ]),\n",
    "        ),\n",
    "    ]\n",
    ")\n",
    " \n",
    "plot.show()"
   ]
  },
  {
   "cell_type": "code",
   "execution_count": null,
   "id": "90681f0b-f2a4-4725-8425-94c63db49326",
   "metadata": {
    "tags": []
   },
   "outputs": [],
   "source": [
    "x = df['day']\n",
    "y = df['commentsCount']\n",
    " \n",
    "plot = px.Figure(data=[px.Scatter(\n",
    "    x=x,\n",
    "    y=y,\n",
    "    mode='markers',)\n",
    "])\n",
    " \n",
    "plot.update_layout(\n",
    "    xaxis=dict(\n",
    "        rangeselector=dict(\n",
    "            buttons=list([\n",
    "                dict(count=1,\n",
    "                    step=\"day\",\n",
    "                    stepmode=\"backward\"),\n",
    "            ])\n",
    "        ),\n",
    "        rangeslider=dict(\n",
    "            visible=True\n",
    "        ),\n",
    "    )\n",
    ")\n",
    " \n",
    "plot.show()"
   ]
  },
  {
   "cell_type": "code",
   "execution_count": null,
   "id": "02ca2cf7-284f-464c-8680-185ba7d367ea",
   "metadata": {
    "tags": []
   },
   "outputs": [],
   "source": [
    "x = df['likesCount']\n",
    "y = df['second']\n",
    " \n",
    "plot = px.Figure(data=[px.Scatter(\n",
    "    x=x,\n",
    "    y=y,\n",
    "    mode='markers',)\n",
    "])\n",
    " \n",
    "plot.update_layout(\n",
    "    xaxis=dict(\n",
    "        rangeselector=dict(\n",
    "            buttons=list([\n",
    "                dict(count=1,\n",
    "                    step=\"day\",\n",
    "                    stepmode=\"backward\"),\n",
    "            ])\n",
    "        ),\n",
    "        rangeslider=dict(\n",
    "            visible=True\n",
    "        ),\n",
    "    )\n",
    ")\n",
    " \n",
    "plot.show()"
   ]
  },
  {
   "cell_type": "code",
   "execution_count": null,
   "id": "32b127ce-1eaa-4563-817e-ca1d9518b68a",
   "metadata": {},
   "outputs": [],
   "source": []
  }
 ],
 "metadata": {
  "kernelspec": {
   "display_name": "Python 3 (ipykernel)",
   "language": "python",
   "name": "python3"
  },
  "language_info": {
   "codemirror_mode": {
    "name": "ipython",
    "version": 3
   },
   "file_extension": ".py",
   "mimetype": "text/x-python",
   "name": "python",
   "nbconvert_exporter": "python",
   "pygments_lexer": "ipython3",
   "version": "3.11.2"
  }
 },
 "nbformat": 4,
 "nbformat_minor": 5
}
